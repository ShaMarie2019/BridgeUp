{
 "cells": [
  {
   "cell_type": "markdown",
   "metadata": {},
   "source": [
    " The first thing to do would be import the libraries that will be needed"
   ]
  },
  {
   "cell_type": "code",
   "execution_count": 1,
   "metadata": {},
   "outputs": [],
   "source": [
    "import pandas as pd \n",
    "import matplotlib.pyplot as plt\n",
    "import numpy as np"
   ]
  },
  {
   "cell_type": "markdown",
   "metadata": {},
   "source": [
    "Volume vs Weight\n",
    " cm = gram \n",
    " Find the ratio:\n",
    "\n",
    "Adding them all together to get the average    brain/ body mass and cerebrumm brain for birds and non avian dinosaurs\n",
    "    \n",
    "Calculate brain/ body mass and cerebrum / whole brain for your brain   Compare your brain to each average "
   ]
  },
  {
   "cell_type": "code",
   "execution_count": 2,
   "metadata": {},
   "outputs": [
    {
     "data": {
      "text/html": [
       "<div>\n",
       "<style scoped>\n",
       "    .dataframe tbody tr th:only-of-type {\n",
       "        vertical-align: middle;\n",
       "    }\n",
       "\n",
       "    .dataframe tbody tr th {\n",
       "        vertical-align: top;\n",
       "    }\n",
       "\n",
       "    .dataframe thead th {\n",
       "        text-align: right;\n",
       "    }\n",
       "</style>\n",
       "<table border=\"1\" class=\"dataframe\">\n",
       "  <thead>\n",
       "    <tr style=\"text-align: right;\">\n",
       "      <th></th>\n",
       "      <th>Species ID</th>\n",
       "      <th>Bird vs Dino</th>\n",
       "      <th>Body Mass (kg)</th>\n",
       "      <th>Olfactory bulbs (cm3)</th>\n",
       "      <th>Cerebrum (cm3)</th>\n",
       "      <th>Optic Lobes (cm3)</th>\n",
       "      <th>Cerebellum (cm3)</th>\n",
       "      <th>Brain Stem (cm3)</th>\n",
       "    </tr>\n",
       "  </thead>\n",
       "  <tbody>\n",
       "    <tr>\n",
       "      <th>0</th>\n",
       "      <td>1</td>\n",
       "      <td>B</td>\n",
       "      <td>0.02</td>\n",
       "      <td>0.009</td>\n",
       "      <td>1.53</td>\n",
       "      <td>0.20</td>\n",
       "      <td>0.16</td>\n",
       "      <td>0.06</td>\n",
       "    </tr>\n",
       "    <tr>\n",
       "      <th>1</th>\n",
       "      <td>2</td>\n",
       "      <td>B</td>\n",
       "      <td>1.26</td>\n",
       "      <td>0.006</td>\n",
       "      <td>16.81</td>\n",
       "      <td>2.84</td>\n",
       "      <td>1.70</td>\n",
       "      <td>0.68</td>\n",
       "    </tr>\n",
       "    <tr>\n",
       "      <th>2</th>\n",
       "      <td>3</td>\n",
       "      <td>B</td>\n",
       "      <td>2.18</td>\n",
       "      <td>0.026</td>\n",
       "      <td>11.08</td>\n",
       "      <td>1.95</td>\n",
       "      <td>0.89</td>\n",
       "      <td>1.15</td>\n",
       "    </tr>\n",
       "    <tr>\n",
       "      <th>3</th>\n",
       "      <td>4</td>\n",
       "      <td>D</td>\n",
       "      <td>0.25</td>\n",
       "      <td>0.050</td>\n",
       "      <td>0.41</td>\n",
       "      <td>0.16</td>\n",
       "      <td>0.09</td>\n",
       "      <td>0.12</td>\n",
       "    </tr>\n",
       "    <tr>\n",
       "      <th>4</th>\n",
       "      <td>5</td>\n",
       "      <td>B</td>\n",
       "      <td>0.01</td>\n",
       "      <td>0.003</td>\n",
       "      <td>1.57</td>\n",
       "      <td>0.20</td>\n",
       "      <td>0.34</td>\n",
       "      <td>0.08</td>\n",
       "    </tr>\n",
       "  </tbody>\n",
       "</table>\n",
       "</div>"
      ],
      "text/plain": [
       "   Species ID Bird vs Dino  Body Mass (kg)  Olfactory bulbs (cm3)  \\\n",
       "0           1            B            0.02                  0.009   \n",
       "1           2            B            1.26                  0.006   \n",
       "2           3            B            2.18                  0.026   \n",
       "3           4            D            0.25                  0.050   \n",
       "4           5            B            0.01                  0.003   \n",
       "\n",
       "   Cerebrum (cm3)  Optic Lobes (cm3)  Cerebellum (cm3)  Brain Stem (cm3)  \n",
       "0            1.53               0.20              0.16              0.06  \n",
       "1           16.81               2.84              1.70              0.68  \n",
       "2           11.08               1.95              0.89              1.15  \n",
       "3            0.41               0.16              0.09              0.12  \n",
       "4            1.57               0.20              0.34              0.08  "
      ]
     },
     "execution_count": 2,
     "metadata": {},
     "output_type": "execute_result"
    }
   ],
   "source": [
    "df = pd.read_csv(\"bird_dino_data.csv\")\n",
    "df.head()"
   ]
  },
  {
   "cell_type": "code",
   "execution_count": 3,
   "metadata": {},
   "outputs": [
    {
     "data": {
      "text/html": [
       "<div>\n",
       "<style scoped>\n",
       "    .dataframe tbody tr th:only-of-type {\n",
       "        vertical-align: middle;\n",
       "    }\n",
       "\n",
       "    .dataframe tbody tr th {\n",
       "        vertical-align: top;\n",
       "    }\n",
       "\n",
       "    .dataframe thead th {\n",
       "        text-align: right;\n",
       "    }\n",
       "</style>\n",
       "<table border=\"1\" class=\"dataframe\">\n",
       "  <thead>\n",
       "    <tr style=\"text-align: right;\">\n",
       "      <th></th>\n",
       "      <th>Species ID</th>\n",
       "      <th>Bird vs Dino</th>\n",
       "      <th>Body Mass (kg)</th>\n",
       "      <th>Olfactory bulbs (cm3)</th>\n",
       "      <th>Cerebrum (cm3)</th>\n",
       "      <th>Optic Lobes (cm3)</th>\n",
       "      <th>Cerebellum (cm3)</th>\n",
       "      <th>Brain Stem (cm3)</th>\n",
       "      <th>Whole Brain</th>\n",
       "    </tr>\n",
       "  </thead>\n",
       "  <tbody>\n",
       "    <tr>\n",
       "      <th>0</th>\n",
       "      <td>1</td>\n",
       "      <td>B</td>\n",
       "      <td>0.02</td>\n",
       "      <td>0.009</td>\n",
       "      <td>1.53</td>\n",
       "      <td>0.20</td>\n",
       "      <td>0.16</td>\n",
       "      <td>0.06</td>\n",
       "      <td>1.959</td>\n",
       "    </tr>\n",
       "    <tr>\n",
       "      <th>1</th>\n",
       "      <td>2</td>\n",
       "      <td>B</td>\n",
       "      <td>1.26</td>\n",
       "      <td>0.006</td>\n",
       "      <td>16.81</td>\n",
       "      <td>2.84</td>\n",
       "      <td>1.70</td>\n",
       "      <td>0.68</td>\n",
       "      <td>22.036</td>\n",
       "    </tr>\n",
       "    <tr>\n",
       "      <th>2</th>\n",
       "      <td>3</td>\n",
       "      <td>B</td>\n",
       "      <td>2.18</td>\n",
       "      <td>0.026</td>\n",
       "      <td>11.08</td>\n",
       "      <td>1.95</td>\n",
       "      <td>0.89</td>\n",
       "      <td>1.15</td>\n",
       "      <td>15.096</td>\n",
       "    </tr>\n",
       "    <tr>\n",
       "      <th>3</th>\n",
       "      <td>4</td>\n",
       "      <td>D</td>\n",
       "      <td>0.25</td>\n",
       "      <td>0.050</td>\n",
       "      <td>0.41</td>\n",
       "      <td>0.16</td>\n",
       "      <td>0.09</td>\n",
       "      <td>0.12</td>\n",
       "      <td>0.830</td>\n",
       "    </tr>\n",
       "    <tr>\n",
       "      <th>4</th>\n",
       "      <td>5</td>\n",
       "      <td>B</td>\n",
       "      <td>0.01</td>\n",
       "      <td>0.003</td>\n",
       "      <td>1.57</td>\n",
       "      <td>0.20</td>\n",
       "      <td>0.34</td>\n",
       "      <td>0.08</td>\n",
       "      <td>2.193</td>\n",
       "    </tr>\n",
       "  </tbody>\n",
       "</table>\n",
       "</div>"
      ],
      "text/plain": [
       "   Species ID Bird vs Dino  Body Mass (kg)  Olfactory bulbs (cm3)  \\\n",
       "0           1            B            0.02                  0.009   \n",
       "1           2            B            1.26                  0.006   \n",
       "2           3            B            2.18                  0.026   \n",
       "3           4            D            0.25                  0.050   \n",
       "4           5            B            0.01                  0.003   \n",
       "\n",
       "   Cerebrum (cm3)  Optic Lobes (cm3)  Cerebellum (cm3)  Brain Stem (cm3)  \\\n",
       "0            1.53               0.20              0.16              0.06   \n",
       "1           16.81               2.84              1.70              0.68   \n",
       "2           11.08               1.95              0.89              1.15   \n",
       "3            0.41               0.16              0.09              0.12   \n",
       "4            1.57               0.20              0.34              0.08   \n",
       "\n",
       "   Whole Brain  \n",
       "0        1.959  \n",
       "1       22.036  \n",
       "2       15.096  \n",
       "3        0.830  \n",
       "4        2.193  "
      ]
     },
     "execution_count": 3,
     "metadata": {},
     "output_type": "execute_result"
    }
   ],
   "source": [
    "Species = df[\"Species ID\"]\n",
    "Bird_Dino = df[\"Bird vs Dino\"]\n",
    "Body_Mass = df[\"Body Mass (kg)\"]\n",
    "Olfactory_bulbs = df[\"Olfactory bulbs (cm3)\"]\n",
    "Cerebrum = df[\"Cerebrum (cm3)\"]\n",
    "Optic_Lobes = df[\"Optic Lobes (cm3)\"]\n",
    "Cerebellum = df[\"Cerebellum (cm3)\"]\n",
    "Brain_Stem = df[\"Brain Stem (cm3)\"]\n",
    "\n",
    "df[\"Whole Brain\"] = Olfactory_bulbs + Cerebrum + Optic_Lobes + Cerebellum + Brain_Stem\n",
    "df.head()"
   ]
  },
  {
   "cell_type": "code",
   "execution_count": 4,
   "metadata": {},
   "outputs": [],
   "source": [
    "Whole_Brain = df[\"Whole Brain\"]"
   ]
  },
  {
   "cell_type": "code",
   "execution_count": 5,
   "metadata": {},
   "outputs": [
    {
     "data": {
      "text/html": [
       "<div>\n",
       "<style scoped>\n",
       "    .dataframe tbody tr th:only-of-type {\n",
       "        vertical-align: middle;\n",
       "    }\n",
       "\n",
       "    .dataframe tbody tr th {\n",
       "        vertical-align: top;\n",
       "    }\n",
       "\n",
       "    .dataframe thead th {\n",
       "        text-align: right;\n",
       "    }\n",
       "</style>\n",
       "<table border=\"1\" class=\"dataframe\">\n",
       "  <thead>\n",
       "    <tr style=\"text-align: right;\">\n",
       "      <th></th>\n",
       "      <th>Species ID</th>\n",
       "      <th>Bird vs Dino</th>\n",
       "      <th>Body Mass (kg)</th>\n",
       "      <th>Olfactory bulbs (cm3)</th>\n",
       "      <th>Cerebrum (cm3)</th>\n",
       "      <th>Optic Lobes (cm3)</th>\n",
       "      <th>Cerebellum (cm3)</th>\n",
       "      <th>Brain Stem (cm3)</th>\n",
       "      <th>Whole Brain</th>\n",
       "      <th>Brain to Body Ratio</th>\n",
       "    </tr>\n",
       "  </thead>\n",
       "  <tbody>\n",
       "    <tr>\n",
       "      <th>0</th>\n",
       "      <td>1</td>\n",
       "      <td>B</td>\n",
       "      <td>0.02</td>\n",
       "      <td>0.009</td>\n",
       "      <td>1.53</td>\n",
       "      <td>0.20</td>\n",
       "      <td>0.16</td>\n",
       "      <td>0.06</td>\n",
       "      <td>1.959</td>\n",
       "      <td>0.097950</td>\n",
       "    </tr>\n",
       "    <tr>\n",
       "      <th>1</th>\n",
       "      <td>2</td>\n",
       "      <td>B</td>\n",
       "      <td>1.26</td>\n",
       "      <td>0.006</td>\n",
       "      <td>16.81</td>\n",
       "      <td>2.84</td>\n",
       "      <td>1.70</td>\n",
       "      <td>0.68</td>\n",
       "      <td>22.036</td>\n",
       "      <td>0.017489</td>\n",
       "    </tr>\n",
       "    <tr>\n",
       "      <th>2</th>\n",
       "      <td>3</td>\n",
       "      <td>B</td>\n",
       "      <td>2.18</td>\n",
       "      <td>0.026</td>\n",
       "      <td>11.08</td>\n",
       "      <td>1.95</td>\n",
       "      <td>0.89</td>\n",
       "      <td>1.15</td>\n",
       "      <td>15.096</td>\n",
       "      <td>0.006925</td>\n",
       "    </tr>\n",
       "    <tr>\n",
       "      <th>3</th>\n",
       "      <td>4</td>\n",
       "      <td>D</td>\n",
       "      <td>0.25</td>\n",
       "      <td>0.050</td>\n",
       "      <td>0.41</td>\n",
       "      <td>0.16</td>\n",
       "      <td>0.09</td>\n",
       "      <td>0.12</td>\n",
       "      <td>0.830</td>\n",
       "      <td>0.003320</td>\n",
       "    </tr>\n",
       "    <tr>\n",
       "      <th>4</th>\n",
       "      <td>5</td>\n",
       "      <td>B</td>\n",
       "      <td>0.01</td>\n",
       "      <td>0.003</td>\n",
       "      <td>1.57</td>\n",
       "      <td>0.20</td>\n",
       "      <td>0.34</td>\n",
       "      <td>0.08</td>\n",
       "      <td>2.193</td>\n",
       "      <td>0.219300</td>\n",
       "    </tr>\n",
       "  </tbody>\n",
       "</table>\n",
       "</div>"
      ],
      "text/plain": [
       "   Species ID Bird vs Dino  Body Mass (kg)  Olfactory bulbs (cm3)  \\\n",
       "0           1            B            0.02                  0.009   \n",
       "1           2            B            1.26                  0.006   \n",
       "2           3            B            2.18                  0.026   \n",
       "3           4            D            0.25                  0.050   \n",
       "4           5            B            0.01                  0.003   \n",
       "\n",
       "   Cerebrum (cm3)  Optic Lobes (cm3)  Cerebellum (cm3)  Brain Stem (cm3)  \\\n",
       "0            1.53               0.20              0.16              0.06   \n",
       "1           16.81               2.84              1.70              0.68   \n",
       "2           11.08               1.95              0.89              1.15   \n",
       "3            0.41               0.16              0.09              0.12   \n",
       "4            1.57               0.20              0.34              0.08   \n",
       "\n",
       "   Whole Brain  Brain to Body Ratio  \n",
       "0        1.959             0.097950  \n",
       "1       22.036             0.017489  \n",
       "2       15.096             0.006925  \n",
       "3        0.830             0.003320  \n",
       "4        2.193             0.219300  "
      ]
     },
     "execution_count": 5,
     "metadata": {},
     "output_type": "execute_result"
    }
   ],
   "source": [
    "df[\"Brain to Body Ratio\"] = Whole_Brain/ (Body_Mass * 1000)\n",
    "df.head()"
   ]
  },
  {
   "cell_type": "code",
   "execution_count": 6,
   "metadata": {},
   "outputs": [
    {
     "data": {
      "text/html": [
       "<div>\n",
       "<style scoped>\n",
       "    .dataframe tbody tr th:only-of-type {\n",
       "        vertical-align: middle;\n",
       "    }\n",
       "\n",
       "    .dataframe tbody tr th {\n",
       "        vertical-align: top;\n",
       "    }\n",
       "\n",
       "    .dataframe thead th {\n",
       "        text-align: right;\n",
       "    }\n",
       "</style>\n",
       "<table border=\"1\" class=\"dataframe\">\n",
       "  <thead>\n",
       "    <tr style=\"text-align: right;\">\n",
       "      <th></th>\n",
       "      <th>Species ID</th>\n",
       "      <th>Bird vs Dino</th>\n",
       "      <th>Body Mass (kg)</th>\n",
       "      <th>Olfactory bulbs (cm3)</th>\n",
       "      <th>Cerebrum (cm3)</th>\n",
       "      <th>Optic Lobes (cm3)</th>\n",
       "      <th>Cerebellum (cm3)</th>\n",
       "      <th>Brain Stem (cm3)</th>\n",
       "      <th>Whole Brain</th>\n",
       "      <th>Brain to Body Ratio</th>\n",
       "      <th>Cerebrum to Whole brain</th>\n",
       "    </tr>\n",
       "  </thead>\n",
       "  <tbody>\n",
       "    <tr>\n",
       "      <th>0</th>\n",
       "      <td>1</td>\n",
       "      <td>B</td>\n",
       "      <td>0.02</td>\n",
       "      <td>0.009</td>\n",
       "      <td>1.53</td>\n",
       "      <td>0.20</td>\n",
       "      <td>0.16</td>\n",
       "      <td>0.06</td>\n",
       "      <td>1.959</td>\n",
       "      <td>0.097950</td>\n",
       "      <td>0.781011</td>\n",
       "    </tr>\n",
       "    <tr>\n",
       "      <th>1</th>\n",
       "      <td>2</td>\n",
       "      <td>B</td>\n",
       "      <td>1.26</td>\n",
       "      <td>0.006</td>\n",
       "      <td>16.81</td>\n",
       "      <td>2.84</td>\n",
       "      <td>1.70</td>\n",
       "      <td>0.68</td>\n",
       "      <td>22.036</td>\n",
       "      <td>0.017489</td>\n",
       "      <td>0.762843</td>\n",
       "    </tr>\n",
       "    <tr>\n",
       "      <th>2</th>\n",
       "      <td>3</td>\n",
       "      <td>B</td>\n",
       "      <td>2.18</td>\n",
       "      <td>0.026</td>\n",
       "      <td>11.08</td>\n",
       "      <td>1.95</td>\n",
       "      <td>0.89</td>\n",
       "      <td>1.15</td>\n",
       "      <td>15.096</td>\n",
       "      <td>0.006925</td>\n",
       "      <td>0.733969</td>\n",
       "    </tr>\n",
       "    <tr>\n",
       "      <th>3</th>\n",
       "      <td>4</td>\n",
       "      <td>D</td>\n",
       "      <td>0.25</td>\n",
       "      <td>0.050</td>\n",
       "      <td>0.41</td>\n",
       "      <td>0.16</td>\n",
       "      <td>0.09</td>\n",
       "      <td>0.12</td>\n",
       "      <td>0.830</td>\n",
       "      <td>0.003320</td>\n",
       "      <td>0.493976</td>\n",
       "    </tr>\n",
       "    <tr>\n",
       "      <th>4</th>\n",
       "      <td>5</td>\n",
       "      <td>B</td>\n",
       "      <td>0.01</td>\n",
       "      <td>0.003</td>\n",
       "      <td>1.57</td>\n",
       "      <td>0.20</td>\n",
       "      <td>0.34</td>\n",
       "      <td>0.08</td>\n",
       "      <td>2.193</td>\n",
       "      <td>0.219300</td>\n",
       "      <td>0.715914</td>\n",
       "    </tr>\n",
       "  </tbody>\n",
       "</table>\n",
       "</div>"
      ],
      "text/plain": [
       "   Species ID Bird vs Dino  Body Mass (kg)  Olfactory bulbs (cm3)  \\\n",
       "0           1            B            0.02                  0.009   \n",
       "1           2            B            1.26                  0.006   \n",
       "2           3            B            2.18                  0.026   \n",
       "3           4            D            0.25                  0.050   \n",
       "4           5            B            0.01                  0.003   \n",
       "\n",
       "   Cerebrum (cm3)  Optic Lobes (cm3)  Cerebellum (cm3)  Brain Stem (cm3)  \\\n",
       "0            1.53               0.20              0.16              0.06   \n",
       "1           16.81               2.84              1.70              0.68   \n",
       "2           11.08               1.95              0.89              1.15   \n",
       "3            0.41               0.16              0.09              0.12   \n",
       "4            1.57               0.20              0.34              0.08   \n",
       "\n",
       "   Whole Brain  Brain to Body Ratio  Cerebrum to Whole brain  \n",
       "0        1.959             0.097950                 0.781011  \n",
       "1       22.036             0.017489                 0.762843  \n",
       "2       15.096             0.006925                 0.733969  \n",
       "3        0.830             0.003320                 0.493976  \n",
       "4        2.193             0.219300                 0.715914  "
      ]
     },
     "execution_count": 6,
     "metadata": {},
     "output_type": "execute_result"
    }
   ],
   "source": [
    "df[\"Cerebrum to Whole brain\"] = Cerebrum/ Whole_Brain\n",
    "df.head()"
   ]
  },
  {
   "cell_type": "code",
   "execution_count": 7,
   "metadata": {},
   "outputs": [],
   "source": [
    "# Create a variable and it equal it to the .loc for the new columns"
   ]
  },
  {
   "cell_type": "code",
   "execution_count": 8,
   "metadata": {},
   "outputs": [],
   "source": [
    "df_bird = df.loc[Bird_Dino == \"B\"]\n",
    "df_dino = df.loc[Bird_Dino == \"D\"]"
   ]
  },
  {
   "cell_type": "code",
   "execution_count": 9,
   "metadata": {},
   "outputs": [
    {
     "name": "stdout",
     "output_type": "stream",
     "text": [
      "18\n"
     ]
    }
   ],
   "source": [
    "print(len(df_bird))"
   ]
  },
  {
   "cell_type": "code",
   "execution_count": 10,
   "metadata": {},
   "outputs": [
    {
     "name": "stdout",
     "output_type": "stream",
     "text": [
      "7\n"
     ]
    }
   ],
   "source": [
    "print(len(df_dino))"
   ]
  },
  {
   "cell_type": "code",
   "execution_count": 11,
   "metadata": {},
   "outputs": [],
   "source": [
    "birdmeanb = df_bird[\"Brain to Body Ratio\"].mean()\n",
    "birdmeanc = df_bird[\"Cerebrum to Whole brain\"].mean()\n",
    "dinomeanb = df_dino[\"Brain to Body Ratio\"].mean()\n",
    "dinomeanc = df_dino[\"Cerebrum to Whole brain\"].mean()"
   ]
  },
  {
   "cell_type": "code",
   "execution_count": 12,
   "metadata": {},
   "outputs": [
    {
     "name": "stdout",
     "output_type": "stream",
     "text": [
      "0.04781897158703077\n",
      "0.6650761062786563\n",
      "0.0016099413841087278\n",
      "0.4696031703064059\n"
     ]
    }
   ],
   "source": [
    "print(birdmeanb)\n",
    "print(birdmeanc)\n",
    "print(dinomeanb)\n",
    "print(dinomeanc)"
   ]
  },
  {
   "cell_type": "code",
   "execution_count": 13,
   "metadata": {},
   "outputs": [],
   "source": [
    "Our_Species_FemurLength = 350\n",
    "Our_Species_Olfactorybulb = 1\n",
    "Our_Species_Cerebrum = 3.5\n",
    "Our_Species_OpticLpbe = 2.5 \n",
    "Our_Species_Cerebellum = 2.9\n",
    "Our_Species_BrainVolume = 22.6"
   ]
  },
  {
   "cell_type": "code",
   "execution_count": 14,
   "metadata": {},
   "outputs": [],
   "source": [
    "# this function takes femur in mm and returns bodymass in g\n",
    "def dinoBody(femur, dino_type):\n",
    "    if dino_type == \"ornithischian\":\n",
    "        bodymass =  10**(3.0587*np.log10(femur)-2.7042)\n",
    "    elif dino_type == \"sauropod\":\n",
    "        bodymass = 10**(2.3459*np.log10(femur)-0.2935)\n",
    "    elif dino_type == \"theropod\":\n",
    "        bodymass = 10**(3.1854*np.log10(femur)-3.184)\n",
    "    return bodymass"
   ]
  },
  {
   "cell_type": "code",
   "execution_count": 15,
   "metadata": {},
   "outputs": [
    {
     "name": "stdout",
     "output_type": "stream",
     "text": [
      "83152.31572461473\n"
     ]
    }
   ],
   "source": [
    "print(dinoBody(350, \"theropod\" ))"
   ]
  },
  {
   "cell_type": "code",
   "execution_count": 16,
   "metadata": {},
   "outputs": [
    {
     "name": "stdout",
     "output_type": "stream",
     "text": [
      "83152.31572461473\n"
     ]
    }
   ],
   "source": [
    "Our_Species_BodyMass = dinoBody(350, \"theropod\" ) \n",
    "print(Our_Species_BodyMass)"
   ]
  },
  {
   "cell_type": "code",
   "execution_count": 17,
   "metadata": {},
   "outputs": [],
   "source": [
    "Our_Species_WholeBrain = Our_Species_Olfactorybulb  + Our_Species_Cerebrum + Our_Species_OpticLpbe + Our_Species_Cerebellum "
   ]
  },
  {
   "cell_type": "code",
   "execution_count": 18,
   "metadata": {
    "scrolled": true
   },
   "outputs": [
    {
     "name": "stdout",
     "output_type": "stream",
     "text": [
      "9.9\n"
     ]
    }
   ],
   "source": [
    "print(Our_Species_WholeBrain)"
   ]
  },
  {
   "cell_type": "code",
   "execution_count": 19,
   "metadata": {},
   "outputs": [
    {
     "name": "stdout",
     "output_type": "stream",
     "text": [
      "0.0002717903861492814\n"
     ]
    }
   ],
   "source": [
    "Our_Species_Brain_Body = Our_Species_BrainVolume / (Our_Species_BodyMass)\n",
    "print(Our_Species_Brain_Body)"
   ]
  },
  {
   "cell_type": "code",
   "execution_count": 20,
   "metadata": {},
   "outputs": [
    {
     "name": "stdout",
     "output_type": "stream",
     "text": [
      "0.35353535353535354\n"
     ]
    }
   ],
   "source": [
    "    Our_Species_CerebrumBrain = 3.5/ Our_Species_WholeBrain\n",
    "print(Our_Species_CerebrumBrain)"
   ]
  },
  {
   "cell_type": "code",
   "execution_count": 21,
   "metadata": {},
   "outputs": [],
   "source": [
    "#Function: Femur length, brain volume, cerebrum width, whole brain width \n",
    "#Return: bird! non avion dinosaur."
   ]
  },
  {
   "cell_type": "code",
   "execution_count": 22,
   "metadata": {},
   "outputs": [],
   "source": [
    "def DinovsBird_bb(ratio):\n",
    "    if abs(ratio - dinomeanc) > abs(ratio - birdmeanc):\n",
    "        result = \"This species is closer to a bird\"\n",
    "    elif abs(ratio - birdmeanc) > abs(ratio - dinomeanc):\n",
    "        result = \"This species is close to a dinosaur\"\n",
    "    return result"
   ]
  },
  {
   "cell_type": "code",
   "execution_count": 23,
   "metadata": {},
   "outputs": [
    {
     "name": "stdout",
     "output_type": "stream",
     "text": [
      "This species is close to a dinosaur\n"
     ]
    }
   ],
   "source": [
    "print(DinovsBird_bb(Our_Species_Brain_Body))"
   ]
  },
  {
   "cell_type": "code",
   "execution_count": 24,
   "metadata": {},
   "outputs": [],
   "source": [
    "def BirdvsDino(FL, BV, CW, BW):\n",
    "    BM = dinoBody(FL, \"theropod\" )\n",
    "    ratio = BV / BM\n",
    "    if abs(ratio - birdmeanb) > abs(ratio - dinomeanb):\n",
    "        result = \"Closer to Dinosaur based on brain to body ratio\"\n",
    "    elif abs(ratio - dinomeanb) > abs(ratio - birdmeanb):\n",
    "        result = \"Closer to Bird based on brain to body ratio\"\n",
    "    CtoB = CW / BW\n",
    "    birds = abs(birdmeanc - CtoB)\n",
    "    dinos = abs(dinomeanc - CtoB)\n",
    "    if birds > dinos:\n",
    "        result2 = \"Closer to Dinosaur based on Cerebrum to brain ratio\"\n",
    "    elif dinos > birds:\n",
    "        result2 = \"Closer to Bird based on Cerebrum to brain ratio\"\n",
    "    return result, result2"
   ]
  },
  {
   "cell_type": "code",
   "execution_count": 25,
   "metadata": {},
   "outputs": [
    {
     "name": "stdout",
     "output_type": "stream",
     "text": [
      "('Closer to Dinosaur based on brain to body ratio', 'Closer to Dinosaur based on Cerebrum to brain ratio')\n"
     ]
    }
   ],
   "source": [
    "print(BirdvsDino(350, 22.6, 3.5, 99))"
   ]
  },
  {
   "cell_type": "markdown",
   "metadata": {},
   "source": [
    "# GRAPH"
   ]
  },
  {
   "cell_type": "code",
   "execution_count": 26,
   "metadata": {},
   "outputs": [
    {
     "data": {
      "image/png": "[encoded data removed]",
      "text/plain": [
       "<Figure size 432x288 with 1 Axes>"
      ]
     },
     "metadata": {
      "needs_background": "light"
     },
     "output_type": "display_data"
    }
   ],
   "source": [
    "plt.scatter(df_dino[\"Body Mass (kg)\"], df_dino[\"Whole Brain\"], c = \"red\", label = \"Dino\", marker = \"x\", s = 50)\n",
    "plt.scatter(df_bird[\"Body Mass (kg)\"], df_bird[\"Whole Brain\"], c = \"blue\", label = \"Bird\", marker = \"x\")\n",
    "plt.scatter(Our_Species_BodyMass/1000, Our_Species_WholeBrain, marker = \"*\", c = \"black\", s =100)\n",
    "plt.legend()\n",
    "plt.ylabel(\"Whole Brain\")\n",
    "plt.xlabel(\"Body Mass\")\n",
    "plt.title(\"Body Mass to Whole Brain for Birds and Dinosaurs\")\n",
    "plt.savefig(\"Body Mass to Whole Brain for Birds and Dinosaurs.png\", dpi = 1500)\n",
    "plt.show()"
   ]
  },
  {
   "cell_type": "code",
   "execution_count": null,
   "metadata": {},
   "outputs": [],
   "source": []
  },
  {
   "cell_type": "code",
   "execution_count": null,
   "metadata": {},
   "outputs": [],
   "source": []
  }
 ],
 "metadata": {
  "kernelspec": {
   "display_name": "Python 3",
   "language": "python",
   "name": "python3"
  },
  "language_info": {
   "codemirror_mode": {
    "name": "ipython",
    "version": 3
   },
   "file_extension": ".py",
   "mimetype": "text/x-python",
   "name": "python",
   "nbconvert_exporter": "python",
   "pygments_lexer": "ipython3",
   "version": "3.7.3"
  }
 },
 "nbformat": 4,
 "nbformat_minor": 2
}
