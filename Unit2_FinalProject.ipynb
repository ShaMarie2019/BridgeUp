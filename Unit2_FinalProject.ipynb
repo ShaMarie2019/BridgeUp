{
 "cells": [
  {
   "cell_type": "markdown",
   "metadata": {},
   "source": [
    "Imoprting Libraries that will be needed later on"
   ]
  },
  {
   "cell_type": "code",
   "execution_count": 43,
   "metadata": {},
   "outputs": [],
   "source": [
    "import matplotlib.pyplot as plt\n",
    "import numpy as np\n",
    "import csv # This is a library that allows us to work with CSV files even if we're not using pandas"
   ]
  },
  {
   "cell_type": "markdown",
   "metadata": {},
   "source": [
    "This code opens the data file, create a CSV reader object to read the data, and converts it into a list or lists using the built in Python list() function"
   ]
  },
  {
   "cell_type": "code",
   "execution_count": 44,
   "metadata": {},
   "outputs": [],
   "source": [
    "csvFile = open(\"PracticalSalinityUnits_Dec_2011.csv\", 'r') \n",
    "csvReader = csv.reader(csvFile, delimiter=',')\n",
    "data_lists = list(csvReader)"
   ]
  },
  {
   "cell_type": "markdown",
   "metadata": {},
   "source": [
    "#"
   ]
  },
  {
   "cell_type": "code",
   "execution_count": 45,
   "metadata": {},
   "outputs": [],
   "source": [
    "width= len(data_lists[0])\n",
    "height= len(data_lists)"
   ]
  },
  {
   "cell_type": "markdown",
   "metadata": {},
   "source": [
    "#"
   ]
  },
  {
   "cell_type": "code",
   "execution_count": 46,
   "metadata": {},
   "outputs": [],
   "source": [
    "grid = np.empty([height, width, 3], dtype=np.uint8) \n",
    "# We have to specify the height and width of the matrix along with the number of items \n",
    "# we can put in each spot on the grid. We want 3 because each color value has 3 numbers.\n",
    "# Finally, we specify the type of data we will put into the matrix."
   ]
  },
  {
   "cell_type": "markdown",
   "metadata": {},
   "source": [
    "#"
   ]
  },
  {
   "cell_type": "code",
   "execution_count": 47,
   "metadata": {},
   "outputs": [],
   "source": [
    "all_values = [] # We will fill in this empty list with all the data values as we go\n",
    "\n",
    "for r, row in enumerate(data_lists):\n",
    "    for c, value in enumerate(row):\n",
    "        if float(value) < 99999:\n",
    "            all_values.append(float(value)) # This is where we fill in the list with all data values\n",
    "        if float(value) <= 30:\n",
    "            grid[r, c] = [51, 255, 255] #lightest blue\n",
    "        elif float(value) <= 31:\n",
    "            grid[r, c] = [153, 204, 255] # blue\n",
    "        elif float(value) <= 32:\n",
    "            grid[r, c] = [51, 153, 255] # light blue\n",
    "        elif float(value) <= 33:\n",
    "            grid[r, c] = [0, 128, 255] # blue\n",
    "        elif float(value) <= 34:\n",
    "            grid[r, c] = [204, 229, 255] # blue\n",
    "        elif float(value) <= 35:\n",
    "            grid[r, c] = [102, 178, 255] # blue\n",
    "        elif float(value) <= 36:\n",
    "            grid[r, c] = [0, 128, 255] #dark blue\n",
    "        elif float(value) <= 37 :\n",
    "            grid[r, c] = [0, 102, 204] #dark blue\n",
    "        elif float(value) <= 38:\n",
    "            grid[r, c] = [0, 0, 255] # darkest blue\n",
    "        else:\n",
    "            grid[r, c] = [0,0,0]"
   ]
  },
  {
   "cell_type": "code",
   "execution_count": 48,
   "metadata": {},
   "outputs": [
    {
     "name": "stdout",
     "output_type": "stream",
     "text": [
      "38.0\n",
      "30.0\n"
     ]
    }
   ],
   "source": [
    "print(max(all_values))\n",
    "print(min(all_values))"
   ]
  },
  {
   "cell_type": "code",
   "execution_count": 49,
   "metadata": {},
   "outputs": [
    {
     "name": "stderr",
     "output_type": "stream",
     "text": [
      "'c' argument looks like a single numeric RGB or RGBA sequence, which should be avoided as value-mapping will have precedence in case its length matches with 'x' & 'y'.  Please use a 2-D array with a single row if you really want to specify the same RGB or RGBA value for all points.\n",
      "'c' argument looks like a single numeric RGB or RGBA sequence, which should be avoided as value-mapping will have precedence in case its length matches with 'x' & 'y'.  Please use a 2-D array with a single row if you really want to specify the same RGB or RGBA value for all points.\n",
      "'c' argument looks like a single numeric RGB or RGBA sequence, which should be avoided as value-mapping will have precedence in case its length matches with 'x' & 'y'.  Please use a 2-D array with a single row if you really want to specify the same RGB or RGBA value for all points.\n"
     ]
    },
    {
     "data": {
      "image/png": "[encoded data removed]",
      "text/plain": [
       "<Figure size 432x288 with 1 Axes>"
      ]
     },
     "metadata": {
      "needs_background": "light"
     },
     "output_type": "display_data"
    }
   ],
   "source": [
    "plt.title(\"Global Ocean Salinity Levels_2011\")\n",
    "plt.imshow(grid)\n",
    "plt.axis('off')\n",
    "plt.savefig(\"Global Ocean Salinity Levels_2011.png\",dpi = 1000)\n",
    "plt.scatter([],[], c=(51/255, 255/255, 255/255), label = \"30 PSU\", edgecolor= \"black\")\n",
    "plt.scatter([],[], c=(204/255, 229/255, 255/255), label = \"34 PSU\", edgecolor= \"black\")\n",
    "plt.scatter([],[], c=(0/255, 0/255, 255/255), label = \"38 PSU\", edgecolor= \"black\")\n",
    "plt.legend(bbox_to_anchor=[1.30,1.0])\n",
    "plt.show()"
   ]
  },
  {
   "cell_type": "markdown",
   "metadata": {},
   "source": [
    "# 2015 Salinity"
   ]
  },
  {
   "cell_type": "code",
   "execution_count": 50,
   "metadata": {},
   "outputs": [],
   "source": [
    "csvFile = open(\"PracticalSalinityUnits_Jan_2015.csv\", 'r') \n",
    "csvReader = csv.reader(csvFile, delimiter=',')\n",
    "data_lists = list(csvReader)"
   ]
  },
  {
   "cell_type": "code",
   "execution_count": 51,
   "metadata": {},
   "outputs": [],
   "source": [
    "all_value = [] # We will fill in this empty list with all the data values as we go\n",
    "\n",
    "for r, row in enumerate(data_lists):\n",
    "    for c, value in enumerate(row):\n",
    "        if float(value) < 99999:\n",
    "            all_values.append(float(value)) # This is where we fill in the list with all data values\n",
    "        if float(value) <= 30:\n",
    "            grid[r, c] = [51, 255, 255] #lightest blue\n",
    "        elif float(value) <= 31:\n",
    "            grid[r, c] = [153, 204, 255] # blue\n",
    "        elif float(value) <= 32:\n",
    "            grid[r, c] = [51, 153, 255] # light blue\n",
    "        elif float(value) <= 33:\n",
    "            grid[r, c] = [0, 128, 255] # blue\n",
    "        elif float(value) <= 34:\n",
    "            grid[r, c] = [204, 229, 255] # blue\n",
    "        elif float(value) <= 35:\n",
    "            grid[r, c] = [102, 178, 255] # blue\n",
    "        elif float(value) <= 36:\n",
    "            grid[r, c] = [0, 128, 255] #dark blue\n",
    "        elif float(value) <= 37 :\n",
    "            grid[r, c] = [0, 102, 204] #dark blue\n",
    "        elif float(value) <= 38:\n",
    "            grid[r, c] = [0, 0, 255] # darkest blue\n",
    "        else:\n",
    "            grid[r, c] = [0,0,0]"
   ]
  },
  {
   "cell_type": "code",
   "execution_count": 53,
   "metadata": {},
   "outputs": [
    {
     "name": "stderr",
     "output_type": "stream",
     "text": [
      "'c' argument looks like a single numeric RGB or RGBA sequence, which should be avoided as value-mapping will have precedence in case its length matches with 'x' & 'y'.  Please use a 2-D array with a single row if you really want to specify the same RGB or RGBA value for all points.\n",
      "'c' argument looks like a single numeric RGB or RGBA sequence, which should be avoided as value-mapping will have precedence in case its length matches with 'x' & 'y'.  Please use a 2-D array with a single row if you really want to specify the same RGB or RGBA value for all points.\n",
      "'c' argument looks like a single numeric RGB or RGBA sequence, which should be avoided as value-mapping will have precedence in case its length matches with 'x' & 'y'.  Please use a 2-D array with a single row if you really want to specify the same RGB or RGBA value for all points.\n"
     ]
    },
    {
     "data": {
      "image/png": "[encoded data removed]",
      "text/plain": [
       "<Figure size 432x288 with 1 Axes>"
      ]
     },
     "metadata": {
      "needs_background": "light"
     },
     "output_type": "display_data"
    }
   ],
   "source": [
    "plt.title(\"Global Ocean Salinity Levels_2015\")\n",
    "plt.imshow(grid)\n",
    "plt.axis('off')\n",
    "plt.savefig(\"Global Ocean Salinity Levels_2015.png\",dpi = 1000)\n",
    "plt.scatter([],[], c=(51/255, 255/255, 255/255), label = \"30 PSU\", edgecolor= \"black\")\n",
    "plt.scatter([],[], c=(204/255, 229/255, 255/255), label = \"34 PSU\", edgecolor= \"black\")\n",
    "plt.scatter([],[], c=(0/255, 0/255, 255/255), label = \"38 PSU\", edgecolor= \"black\")\n",
    "plt.legend(bbox_to_anchor=[1.30,1.0])\n",
    "plt.show()"
   ]
  },
  {
   "cell_type": "code",
   "execution_count": null,
   "metadata": {},
   "outputs": [],
   "source": []
  }
 ],
 "metadata": {
  "kernelspec": {
   "display_name": "Python 3",
   "language": "python",
   "name": "python3"
  },
  "language_info": {
   "codemirror_mode": {
    "name": "ipython",
    "version": 3
   },
   "file_extension": ".py",
   "mimetype": "text/x-python",
   "name": "python",
   "nbconvert_exporter": "python",
   "pygments_lexer": "ipython3",
   "version": "3.7.3"
  }
 },
 "nbformat": 4,
 "nbformat_minor": 2
}
