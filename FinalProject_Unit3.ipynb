{
 "cells": [
  {
   "cell_type": "markdown",
   "metadata": {},
   "source": [
    "#                Zebra, Elephant and Rhino Similarities"
   ]
  },
  {
   "cell_type": "code",
   "execution_count": 67,
   "metadata": {},
   "outputs": [],
   "source": [
    "# Open files and read and read them.\n",
    "Zebra_DNA = open(\"Zebra.txt\").read()\n",
    "Rhino_DNA = open(\"Rhino.txt\").read()\n",
    "Elephant_DNA = open(\"Elephant.txt\").read()"
   ]
  },
  {
   "cell_type": "code",
   "execution_count": 68,
   "metadata": {},
   "outputs": [
    {
     "name": "stdout",
     "output_type": "stream",
     "text": [
      "1145\n",
      "1140\n",
      "1140\n"
     ]
    }
   ],
   "source": [
    "print(len(Zebra_DNA))\n",
    "print(len(Rhino_DNA))\n",
    "print(len(Elephant_DNA))"
   ]
  },
  {
   "cell_type": "code",
   "execution_count": 69,
   "metadata": {},
   "outputs": [],
   "source": [
    "def diff_DNA( Animal_1, Animal_2):\n",
    "    DNA = 0\n",
    "    for c, i in enumerate(Animal_1):\n",
    "        if i != Animal_2[c]:\n",
    "            DNA += 1  \n",
    "    return DNA"
   ]
  },
  {
   "cell_type": "markdown",
   "metadata": {},
   "source": [
    "## Elephant and Zebra"
   ]
  },
  {
   "cell_type": "code",
   "execution_count": 70,
   "metadata": {},
   "outputs": [
    {
     "name": "stdout",
     "output_type": "stream",
     "text": [
      "354\n"
     ]
    }
   ],
   "source": [
    "print(diff_DNA(Elephant_DNA, Zebra_DNA))"
   ]
  },
  {
   "cell_type": "markdown",
   "metadata": {},
   "source": [
    "## Rhino and Zebra"
   ]
  },
  {
   "cell_type": "code",
   "execution_count": 71,
   "metadata": {},
   "outputs": [
    {
     "name": "stdout",
     "output_type": "stream",
     "text": [
      "180\n"
     ]
    }
   ],
   "source": [
    "print(diff_DNA(Rhino_DNA, Zebra_DNA))"
   ]
  },
  {
   "cell_type": "markdown",
   "metadata": {},
   "source": [
    "## Rhino and Elephant"
   ]
  },
  {
   "cell_type": "code",
   "execution_count": 72,
   "metadata": {},
   "outputs": [
    {
     "name": "stdout",
     "output_type": "stream",
     "text": [
      "349\n"
     ]
    }
   ],
   "source": [
    "print(diff_DNA(Elephant_DNA, Rhino_DNA))"
   ]
  },
  {
   "cell_type": "markdown",
   "metadata": {},
   "source": [
    "# Finding the Percent of Difference"
   ]
  },
  {
   "cell_type": "code",
   "execution_count": 73,
   "metadata": {},
   "outputs": [
    {
     "name": "stdout",
     "output_type": "stream",
     "text": [
      "Rhino and Elephant:\n",
      "30.614035087719298\n",
      "\n",
      "Rhino and Zebra:\n",
      "15.789473684210526\n",
      "\n",
      "Elephant and Zebra:\n",
      "31.05263157894737\n"
     ]
    }
   ],
   "source": [
    "def percent_dna(obj1, obj2):\n",
    "    diff = 0 \n",
    "    for c, i in enumerate(obj1):\n",
    "        if i != obj2[c]:\n",
    "            diff += 1\n",
    "    print(100*(diff)/len(Rhino_DNA))\n",
    "    \n",
    "print(\"Rhino and Elephant:\")\n",
    "percent_dna(Rhino_DNA, Elephant_DNA)\n",
    "print()\n",
    "print(\"Rhino and Zebra:\")\n",
    "percent_dna(Rhino_DNA, Zebra_DNA)\n",
    "print()\n",
    "print(\"Elephant and Zebra:\")\n",
    "percent_dna(Elephant_DNA,Zebra_DNA)"
   ]
  },
  {
   "cell_type": "code",
   "execution_count": 74,
   "metadata": {},
   "outputs": [],
   "source": [
    "ZER= [\"Rhino and Zebra\", \"Zebra and Elephant\", \"Rhino and Elephant\"]\n",
    "percent = [All_RZ, All_ZE, All_RE]\n",
    "colors=[\"green\",\"blue\",\"purple\"]"
   ]
  },
  {
   "cell_type": "code",
   "execution_count": 75,
   "metadata": {},
   "outputs": [],
   "source": [
    "import matplotlib.pyplot as plt"
   ]
  },
  {
   "cell_type": "code",
   "execution_count": 76,
   "metadata": {},
   "outputs": [
    {
     "data": {
      "image/png": "[encoded data removed]",
      "text/plain": [
       "<Figure size 432x288 with 1 Axes>"
      ]
     },
     "metadata": {
      "needs_background": "light"
     },
     "output_type": "display_data"
    }
   ],
   "source": [
    "plt.bar(ZER, percent, color= colors, edgecolor = \"white\")\n",
    "plt.title(\"Percent of Differences\")\n",
    "plt.xlabel(\"Animals\")\n",
    "plt.ylabel(\"Percentage\")\n",
    "plt.yticks\n",
    "plt.show()"
   ]
  }
 ],
 "metadata": {
  "kernelspec": {
   "display_name": "Python 3",
   "language": "python",
   "name": "python3"
  },
  "language_info": {
   "codemirror_mode": {
    "name": "ipython",
    "version": 3
   },
   "file_extension": ".py",
   "mimetype": "text/x-python",
   "name": "python",
   "nbconvert_exporter": "python",
   "pygments_lexer": "ipython3",
   "version": "3.7.3"
  }
 },
 "nbformat": 4,
 "nbformat_minor": 2
}
